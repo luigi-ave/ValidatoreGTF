{
 "cells": [
  {
   "cell_type": "markdown",
   "metadata": {},
   "source": [
    "# Validatore GTF\n",
    "**Avenoso Luigi 844787**"
   ]
  },
  {
   "cell_type": "markdown",
   "metadata": {},
   "source": [
    "##### Testo esercizio\n",
    "Si richiede di scrivere un validatore del formato GTF (Gene Transfer Format) che prenda in input un file in formato GTF che annota un set di geni ed effettui la validazione del file rispetto alla specifica del formato (<https://mblab.wustl.edu/GTF22.html>).\n",
    "Il validatore deve produrre in output un report con le violazioni presenti, specificando per ognuna di esse il record che la contiene (posizione all'interno del file in input) e tutte le informazioni che si ritengono necessarie per descriverla e correggerla.\n",
    "Il validatore può essere prodotto sia come script che come Jupyter Notebook, e deve essere adeguatamente commentato. Si richiede inoltre un documento che elenchi e descriva brevemente le violazioni che sono state considerate. Per ogni violazione considerata, includere un file con tale violazione.\n",
    "Il validatore deve essere caricato in un repository GitHub di cui va consegnato il link"
   ]
  },
  {
   "cell_type": "markdown",
   "metadata": {},
   "source": [
    "**La validazione è stata sviluppata solamente a livello sintattico**"
   ]
  },
  {
   "cell_type": "code",
   "execution_count": 1,
   "metadata": {},
   "outputs": [],
   "source": [
    "import re\n",
    "import collections"
   ]
  },
  {
   "cell_type": "markdown",
   "metadata": {},
   "source": [
    "### File disponibili per i test\n",
    "Per eseguire i test è necessario decommentare il file gtf relativo, commentando l’attuale"
   ]
  },
  {
   "cell_type": "code",
   "execution_count": 2,
   "metadata": {},
   "outputs": [],
   "source": [
    "# Contiene l'errore sul numero dei campi \n",
    "#gtf_file_name = \"./file_test/test1.gtf\"\n",
    "\n",
    "# Contiene l’errore nel campo seqname\n",
    "#gtf_file_name = \"./file_test/test2.gtf\"\n",
    "\n",
    "# Contiene l’errore nel campo source\n",
    "#gtf_file_name = \"./file_test/test3.gtf\"\n",
    "\n",
    "# Contiene l’errore nel campo feature\n",
    "#gtf_file_name = \"./file_test/test4.gtf\"\n",
    "\n",
    "# contiene l’errore nei campi start ed end\n",
    "#gtf_file_name = \"./file_test/test5.gtf\"\n",
    "\n",
    "# Contiene l’errore nel campo score\n",
    "#gtf_file_name = \"./file_test/test6.gtf\"\n",
    "\n",
    "# Contiene l’errore nel campo strand\n",
    "#gtf_file_name = \"./file_test/test7.gtf\"\n",
    "\n",
    "# Contiene l’errore nel campo frame\n",
    "#gtf_file_name = \"./file_test/test8.gtf\"\n",
    "\n",
    "# Contiene l’errore nel campo attributes\n",
    "#gtf_file_name = \"./file_test/test9.gtf\"\n",
    "\n",
    "# File corretto con presenza di commenti\n",
    "#gtf_file_name = \"./file_test/test10.gtf\"\n",
    "\n",
    "# Contiene tutti i possibili errori dei file precedenti\n",
    "gtf_file_name = \"./file_test/test11.gtf\""
   ]
  },
  {
   "cell_type": "markdown",
   "metadata": {},
   "source": [
    "**Lettura file GTF**"
   ]
  },
  {
   "cell_type": "code",
   "execution_count": 3,
   "metadata": {},
   "outputs": [],
   "source": [
    "# Lettura file GTF \n",
    "\n",
    "with open(gtf_file_name, 'r') as gtf_input_file:\n",
    "    gtf_file_rows = gtf_input_file.readlines()"
   ]
  },
  {
   "cell_type": "code",
   "execution_count": 4,
   "metadata": {},
   "outputs": [],
   "source": [
    "gtf_file_rows"
   ]
  },
  {
   "cell_type": "code",
   "execution_count": 5,
   "metadata": {},
   "outputs": [],
   "source": [
    "# Eliminazione degli eventuali commenti(#) dal file\n",
    "# I commenti possono verificarsi ovunque nel file, anche alla fine di una linea caratteristica\n",
    "# Sono stai considerati anche commenti che, alla fine della linea, sono separati da un TAB dall'ultimo campo\n",
    "# Esempio: transcript_id \"U52112.4-005\"; gene_id \"ARHGAP4\";\\t#commento\n",
    "\n",
    "# Sono stai considerati anche commenti che, alla fine della linea, non sono separati da un TAB dall'ultimo campo\n",
    "# Esempio: transcript_id \"U52112.4-005\"; gene_id \"ARHGAP4\";#commento\n",
    "\n",
    "for row in gtf_file_rows:\n",
    "    if '\\t#' in row:\n",
    "        gtf_file_rows[gtf_file_rows.index(row)] = gtf_file_rows[gtf_file_rows.index(row)][:row.index('\\t#')]\n",
    "    elif '#' in row:\n",
    "        gtf_file_rows[gtf_file_rows.index(row)] = gtf_file_rows[gtf_file_rows.index(row)][:row.index('#')]"
   ]
  },
  {
   "cell_type": "code",
   "execution_count": 6,
   "metadata": {},
   "outputs": [],
   "source": [
    "gtf_file_rows"
   ]
  },
  {
   "cell_type": "markdown",
   "metadata": {},
   "source": [
    "#### Funzioni per il controllo sintattico del file\n",
    "*seq_id(gtf_rows)*\n",
    "- Ritorna il dict (gene_id, seqname)\n",
    "- La correttezza del campo **seqname** si basa su una statistica\n",
    "- Assumo che il campo **seqname** più numeroso associato al relativo gene sia quello corretto per il gene\n",
    "- Il numero maggiore di seqname presenti in un determinato gene si assume come valore corretto per il confronto\n",
    "\n",
    "*scr_id(gtf_row)*\n",
    "- Ritorna il valore calcolato statisticamente del campo **source**\n",
    "- Assumo che il campo **source** sia unico per tutto il file\n",
    "- Il numero maggiore di source presenti nel file si assume come valore corretto per il confronto\n",
    "\n",
    "*check_row_size(row)*\n",
    "- Ritorna True se la riga esaminata ha il numero dei campi corretto (9 in questo caso), False altrimenti\n",
    "\n",
    "*check_start_end(start, end, i)*\n",
    "- Ritorna True se il campo **start** ed **end** rispettano le specifiche, False altrimenti\n",
    "- start deve essere minore uguale ad end\n",
    "- Devono essere valore interi maggiori di 0\n",
    "\n",
    "*check_list(fte, vals)*\n",
    "- Ritorna True se fte è presente nella lista vals, False altrimenti\n",
    "- Viene utilizzata per il controllo dei campi **feature**, **strand** e **frame**\n",
    "\n",
    "*check_score(score)*\n",
    "- Ritorna True se il campo **score** rispetta le specifiche, False altrimenti\n",
    "\n",
    "*check_attributes(row)*\n",
    "- Controlla se sono presenti gli attributi obbligatori gene_id e transcript_id restituendo True, altrimenti False "
   ]
  },
  {
   "cell_type": "code",
   "execution_count": 7,
   "metadata": {},
   "outputs": [],
   "source": [
    "def seq_id(gtf_rows):\n",
    "    seqid = dict()\n",
    "    seqid_list = list()\n",
    "    for row in gtf_rows:\n",
    "        riga = row.rstrip().split('\\t')\n",
    "        if check_row_size(riga):\n",
    "            gene_id = re.findall('gene_id\\s+\"([^\"]+)\";', riga[8])\n",
    "            seqname = riga[0]\n",
    "            if gene_id:\n",
    "                seqid_list.append((gene_id[0], seqname))\n",
    "    seqidC = collections.Counter(seqid_list)\n",
    "    for values in seqidC.most_common():\n",
    "        if values[0][0] not in list(seqid.keys()):\n",
    "            seqid.update([values[0]])\n",
    "    return seqid\n",
    "             \n",
    "\n",
    "\n",
    "def src_id(gtf_rows):\n",
    "    srcid = list()\n",
    "    for row in gtf_rows:\n",
    "        riga = row.split('\\t')\n",
    "        if check_row_size(riga):\n",
    "            srcid.append(riga[1])\n",
    "    srcidC = collections.Counter(srcid)\n",
    "    return srcidC.most_common(1)[0][0]  \n",
    "\n",
    "\n",
    "def check_row_size(row):\n",
    "    return len(row) == 9\n",
    "\n",
    "\n",
    "def check_start_end(start, end, i):\n",
    "    try:\n",
    "        s = int(start)\n",
    "        e = int(end)\n",
    "        return (s <= e and s > 0 and e > 0)\n",
    "    except ValueError:\n",
    "        gtf_file_report.write(\"Errore alla linea: \" + str(i) + \". campo <start> o <end> non corretto, non e' un intero\\n\");\n",
    "        use_file = True\n",
    "        return False\n",
    "    \n",
    "\n",
    "\n",
    "def check_list(fte, vals):\n",
    "    return fte in vals\n",
    "\n",
    "\n",
    "def check_score(score):\n",
    "    if score == \".\":\n",
    "        return True\n",
    "    else:\n",
    "        try:\n",
    "            s = int(score)\n",
    "            return True\n",
    "        except ValueError:\n",
    "            try:\n",
    "                s = float(score)\n",
    "                return True\n",
    "            except ValueError:\n",
    "                return False\n",
    "        return False\n",
    "\n",
    "\n",
    "\n",
    "def check_attributes(row):\n",
    "    transcript_id = re.findall('transcript_id\\s+\"([^\"]+)\";', row.rstrip().split('\\t')[8])\n",
    "    gene_id = re.findall('gene_id\\s+\"([^\"]+)\";', row.rstrip().split('\\t')[8])\n",
    "    return transcript_id and gene_id\n"
   ]
  },
  {
   "cell_type": "code",
   "execution_count": 8,
   "metadata": {},
   "outputs": [],
   "source": [
    "# File per il report \n",
    "\n",
    "report_file_name = \"report.txt\"\n",
    "gtf_file_report = open(report_file_name, 'wt')\n",
    "gtf_file_report.write(\"REPORT FILE: \" + gtf_file_name +\"\\n\\n\")"
   ]
  },
  {
   "cell_type": "code",
   "execution_count": 9,
   "metadata": {},
   "outputs": [],
   "source": [
    "# indice di riga\n",
    "i = 1\n",
    "\n",
    "# variabile controllo errori o no\n",
    "use_file = False\n",
    "\n",
    "# liste dei valori ammessi\n",
    "feature_list = [\"CDS\",\"start_codon\",\"stop_codon\",\"5UTR\",\"3UTR\",\"inter\",\"inter_CNS\",\"intron_CNS\",\"exon\"]\n",
    "strand_list = [\"+\", \"-\"]\n",
    "list_fme = [\"0\", \"1\", \"2\", \".\"]\n",
    "list_ftr = [\"CDS\", \"start_codon\", \"stop_codon\"]\n",
    "\n",
    "# dizionario (gene_id,seqname) per controllo statistico \n",
    "seqname_id = seq_id(gtf_file_rows)\n",
    "\n",
    "# variabile contente source statisticamente stimato\n",
    "src_id = src_id(gtf_file_rows)\n",
    "\n",
    "# Controllo dell'intero file\n",
    "for row in gtf_file_rows:\n",
    "    riga = row.split('\\t')\n",
    "    if len(riga) > 1:\n",
    "        if not check_row_size(riga):\n",
    "            gtf_file_report.write(\"Errore alla linea: \" + str(i) + \". Numero dei campi non rispettato\\n\");\n",
    "            use_file = True\n",
    "        else:\n",
    "            if riga[1] != src_id:\n",
    "                gtf_file_report.write(\"Errore alla linea: \" + str(i) + \". Campo <source> non e' unico, trovato: \" + riga[1] + \"\\n\\tPossibile soluzione: \" + src_id + \" (stimato statisticamente)\\n\");\n",
    "                use_file = True\n",
    "            if not check_list(riga[2], feature_list):\n",
    "                gtf_file_report.write(\"Errore alla linea: \" + str(i) + \". Campo <feature> non corretto, trovato: \" + riga[2] + \"\\n\\tPossibile soluzione: \" + str(feature_list) + \"\\n\");\n",
    "                use_file = True\n",
    "            if not check_start_end(riga[3], riga[4], i):\n",
    "                gtf_file_report.write(\"Errore alla linea: \" + str(i) + \". <start> o <end> non corretto, trovato: \" + riga[3] + \" \" + riga[4] + \"\\n\\tPossibile soluzione: start <= end\\n\");\n",
    "                use_file = True      \n",
    "            if not check_score(riga[5]):\n",
    "                gtf_file_report.write(\"Errore alla linea: \" + str(i) + \". Campo <score> non corretto, trovato: \" + riga[5] + \"\\n\\tDovrebbe essere floating point number, integer o un punto\\n\");\n",
    "                use_file = True\n",
    "            if not check_list(riga[6], strand_list):\n",
    "                gtf_file_report.write(\"Errore alla linea: \" + str(i) + \". Campo <strand> non corretto, trovato: \" + riga[6] + \"\\n\\tPossibile soluzione: \" + str(strand_list) + \"\\n\");\n",
    "                use_file = True\n",
    "            if not check_list(riga[7], list_fme):\n",
    "                gtf_file_report.write(\"Errore alla linea: \" + str(i) + \". Campo <frame> non corretto, trovato: \" + riga[7] + \"\\n\\tPossibile soluzione: \" + str(list_fme) + \"\\n\");\n",
    "                use_file = True\n",
    "            elif (riga[2] not in list_ftr) and riga[7] != \".\":\n",
    "                gtf_file_report.write(\"Errore alla linea: \" + str(i) + \". Campo <frame> non corretto, trovato: \" + riga[7] + \"\\n\\tPossibile soluzione: . \\n\");\n",
    "                use_file = True\n",
    "            elif check_list(riga[2], list_ftr) and not check_list(riga[7], list_fme[:-1]):\n",
    "                gtf_file_report.write(\"Errore alla linea: \" + str(i) + \". Campo <frame> non corretto, trovato: \" + riga[7] + \"\\n\\tPossibile soluzione: \" + str(list_fme[:-1]) + \"\\n\");\n",
    "                use_file = True\n",
    "            if not check_attributes(row):\n",
    "                gtf_file_report.write(\"Errore alla linea: \" + str(i) + \". Campo <attributes> non corretto, trovato: \" + riga[8].rstrip() + \"\\n\\tNon rispetta le specifiche\\n\");\n",
    "                use_file = True\n",
    "            elif riga[0] != seqname_id[re.findall('gene_id\\s+\"([^\"]+)\";', riga[8])[0]]:\n",
    "                gtf_file_report.write(\"Errore alla linea: \" + str(i) + \". Campo <seqname> non corretto, trovato: \" + riga[0] + \"\\n\\tPossibile soluzione: \" + seqname_id[re.findall('gene_id\\s+\"([^\"]+)\";', riga[8])[0]] + \" (stimato statisticamente)\\n\");\n",
    "                use_file = True\n",
    "    i += 1\n",
    "\n",
    "# Nessun errore trovato\n",
    "if (not use_file):\n",
    "    gtf_file_report.write(\"File GTF corretto sintatticamente\")\n",
    "    "
   ]
  },
  {
   "cell_type": "code",
   "execution_count": 10,
   "metadata": {},
   "outputs": [],
   "source": [
    "# Chiusura file analizzato e report\n",
    "\n",
    "gtf_file_report.close()\n",
    "gtf_input_file.close()"
   ]
  },
  {
   "cell_type": "code",
   "execution_count": null,
   "metadata": {},
   "outputs": [],
   "source": []
  }
 ],
 "metadata": {
  "kernelspec": {
   "display_name": "Python 3",
   "language": "python",
   "name": "python3"
  },
  "language_info": {
   "codemirror_mode": {
    "name": "ipython",
    "version": 3
   },
   "file_extension": ".py",
   "mimetype": "text/x-python",
   "name": "python",
   "nbconvert_exporter": "python",
   "pygments_lexer": "ipython3",
   "version": "3.8.3"
  }
 },
 "nbformat": 4,
 "nbformat_minor": 4
}
